{
 "cells": [
  {
   "cell_type": "code",
   "execution_count": 1,
   "id": "6c480519-ee83-4e8f-be9c-a8441404acbb",
   "metadata": {},
   "outputs": [
    {
     "name": "stdout",
     "output_type": "stream",
     "text": [
      "(a)\n",
      "Number of cells: 31\n",
      "(b)\n",
      "Number of channels per cell: 95\n",
      "(c)\n",
      "Traffic intensity per cell: 84\n",
      "(d)\n",
      "Maximum carried traffic: 2604\n",
      "(e)\n",
      "Total number of users: 86800.0\n",
      "(f)\n",
      "Number of mobiles per channel: 130\n",
      "(g)\n",
      "Theoretical maximum number of users that could be served: 2945\n"
     ]
    }
   ],
   "source": [
    "import math\n",
    "\n",
    "# Given values\n",
    "area = 1300\n",
    "radius = 4\n",
    "each_cell_covers = math.floor(2.5981 * radius ** 2)  # in square kilometers\n",
    "print('(a)')\n",
    "number_of_cells = math.floor(area / each_cell_covers)\n",
    "print(\"Number of cells:\", number_of_cells)\n",
    "\n",
    "# (b)\n",
    "allocated_spectrum = 40000\n",
    "channel_width = 60\n",
    "frequency_reuse_factor = 7\n",
    "print('(b)')\n",
    "number_of_channel_per_cell = math.floor(allocated_spectrum / (channel_width * frequency_reuse_factor))\n",
    "print(\"Number of channels per cell:\", number_of_channel_per_cell)\n",
    "\n",
    "# (c)\n",
    "print('(c)')\n",
    "traffic_intensity_per_cell = 84  # from erlang chart B\n",
    "print(\"Traffic intensity per cell:\", traffic_intensity_per_cell)\n",
    "\n",
    "# (d)\n",
    "print('(d)')\n",
    "maximum_carried_traffic = number_of_cells * traffic_intensity_per_cell\n",
    "print(\"Maximum carried traffic:\", maximum_carried_traffic)\n",
    "\n",
    "# (e)\n",
    "traffic_per_user = 0.03\n",
    "print('(e)')\n",
    "total_number_of_user = maximum_carried_traffic / traffic_per_user\n",
    "print(\"Total number of users:\", total_number_of_user)\n",
    "\n",
    "# (f)\n",
    "number_of_channels = number_of_channel_per_cell * frequency_reuse_factor\n",
    "print('(f)')\n",
    "number_of_mobile_per_channel = math.floor(total_number_of_user / number_of_channels)\n",
    "print(\"Number of mobiles per channel:\", number_of_mobile_per_channel)\n",
    "\n",
    "# (g)\n",
    "print('(g)')\n",
    "theoretical_maximum_number_of_user_that_could_be_served = number_of_cells * number_of_channel_per_cell\n",
    "print(\"Theoretical maximum number of users that could be served:\",\n",
    "      theoretical_maximum_number_of_user_that_could_be_served)\n"
   ]
  },
  {
   "cell_type": "code",
   "execution_count": null,
   "id": "4e335d39-0a99-4f04-9173-5a64110aaf2e",
   "metadata": {},
   "outputs": [],
   "source": []
  }
 ],
 "metadata": {
  "kernelspec": {
   "display_name": "Python 3 (ipykernel)",
   "language": "python",
   "name": "python3"
  },
  "language_info": {
   "codemirror_mode": {
    "name": "ipython",
    "version": 3
   },
   "file_extension": ".py",
   "mimetype": "text/x-python",
   "name": "python",
   "nbconvert_exporter": "python",
   "pygments_lexer": "ipython3",
   "version": "3.11.7"
  }
 },
 "nbformat": 4,
 "nbformat_minor": 5
}
