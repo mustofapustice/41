{
 "cells": [
  {
   "cell_type": "code",
   "execution_count": 1,
   "id": "063761bf-6052-43b8-a762-148517796017",
   "metadata": {},
   "outputs": [
    {
     "name": "stdout",
     "output_type": "stream",
     "text": [
      "Transmitted Power: 47.0 dBm\n",
      "Transmitted Power: 17.0 dBW\n",
      "Received Power: -24.5 dBm\n",
      "Received Power: -64.5 dBm\n"
     ]
    }
   ],
   "source": [
    "# given\n",
    "import math\n",
    "\n",
    "Pt = 50  # Transmitter Power\n",
    "fc = 900  # Carrier Frequency\n",
    "\n",
    "# a\n",
    "PtdBm = 10 * math.log10(Pt * 1e3)\n",
    "print(\"Transmitted Power: %.1f dBm\" % PtdBm)\n",
    "\n",
    "# b\n",
    "PtBW = 10 * math.log10(Pt)\n",
    "print(\"Transmitted Power: %.1f dBW\" % PtBW)\n",
    "\n",
    "# received power\n",
    "Gt = 1\n",
    "Gr = 1\n",
    "lam = 1 / 3\n",
    "d = 100\n",
    "L = 1\n",
    "Pr = (Pt * Gt * Gr * (lam**2)) / (((4 * math.pi) ** 2) * (d**2) * L)\n",
    "PrdBm = 10 * math.log10(Pr * 1e3)\n",
    "print(\"Received Power: %.1f dBm\" % PrdBm)\n",
    "\n",
    "# Pr(10Km)\n",
    "Pr10Km = PrdBm + 20 * math.log10(100 / 10000)\n",
    "print(\"Received Power: %.1f dBm\" % Pr10Km)\n"
   ]
  },
  {
   "cell_type": "code",
   "execution_count": null,
   "id": "4b6799da-4a20-4a76-b6c7-945aa8506e5b",
   "metadata": {},
   "outputs": [],
   "source": []
  }
 ],
 "metadata": {
  "kernelspec": {
   "display_name": "Python 3 (ipykernel)",
   "language": "python",
   "name": "python3"
  },
  "language_info": {
   "codemirror_mode": {
    "name": "ipython",
    "version": 3
   },
   "file_extension": ".py",
   "mimetype": "text/x-python",
   "name": "python",
   "nbconvert_exporter": "python",
   "pygments_lexer": "ipython3",
   "version": "3.11.7"
  }
 },
 "nbformat": 4,
 "nbformat_minor": 5
}
