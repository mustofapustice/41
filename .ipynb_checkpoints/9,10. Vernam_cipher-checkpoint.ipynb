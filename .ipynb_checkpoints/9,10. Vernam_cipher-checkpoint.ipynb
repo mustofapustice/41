{
 "cells": [
  {
   "cell_type": "code",
   "execution_count": 1,
   "id": "5eb7eb46-7c87-4c27-85b1-958c2ba2796c",
   "metadata": {},
   "outputs": [
    {
     "name": "stdout",
     "output_type": "stream",
     "text": [
      "Ciphertext: NSS\n",
      "Decrypted text: OAK\n"
     ]
    }
   ],
   "source": [
    "import random\n",
    "\n",
    "alphabet = \"abcdefghijklmnopqrstuvwxyz\".upper()\n",
    "mp = dict(zip(alphabet, range(len(alphabet))))\n",
    "mp2 = dict(zip(range(len(alphabet)), alphabet))\n",
    "\n",
    "\n",
    "def generate_key(length):\n",
    "    key = \"\"\n",
    "    for i in range(length):\n",
    "        key += chr(random.randint(65, 90))  # ASCII codes for A-Z\n",
    "    return key\n",
    "\n",
    "\n",
    "def encrypt(plaintext, key):\n",
    "    ciphertext = \"\"\n",
    "    cipherCode = []\n",
    "    for i in range(len(plaintext)):\n",
    "        xor = mp[plaintext[i]] ^ mp[key[i]]\n",
    "        cipherCode.append(xor)\n",
    "        ciphertext += mp2[(mp['A'] + xor) % 26]\n",
    "    return ciphertext, cipherCode\n",
    "\n",
    "\n",
    "def decrypt(cipherCode, key):\n",
    "    plaintext = \"\"\n",
    "    for i in range(len(cipherCode)):\n",
    "        xor = cipherCode[i] ^ mp[key[i]]\n",
    "        plaintext += mp2[xor % 26]\n",
    "    return plaintext\n",
    "\n",
    "\n",
    "plaintext = \"OAK\"\n",
    "plaintext = plaintext.upper()\n",
    "key = generate_key(len(plaintext))\n",
    "ciphertext, cipherCode = encrypt(plaintext, key)\n",
    "print(\"Ciphertext:\", ciphertext)\n",
    "decryptedtext = decrypt(cipherCode, key)\n",
    "print(\"Decrypted text:\", decryptedtext)\n"
   ]
  },
  {
   "cell_type": "code",
   "execution_count": null,
   "id": "59f49ef2-8b07-4fcc-a970-8afed8077f0f",
   "metadata": {},
   "outputs": [],
   "source": []
  }
 ],
 "metadata": {
  "kernelspec": {
   "display_name": "Python 3 (ipykernel)",
   "language": "python",
   "name": "python3"
  },
  "language_info": {
   "codemirror_mode": {
    "name": "ipython",
    "version": 3
   },
   "file_extension": ".py",
   "mimetype": "text/x-python",
   "name": "python",
   "nbconvert_exporter": "python",
   "pygments_lexer": "ipython3",
   "version": "3.11.7"
  }
 },
 "nbformat": 4,
 "nbformat_minor": 5
}
