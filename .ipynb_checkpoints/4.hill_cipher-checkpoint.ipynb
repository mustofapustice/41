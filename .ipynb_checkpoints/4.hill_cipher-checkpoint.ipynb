{
 "cells": [
  {
   "cell_type": "code",
   "execution_count": 1,
   "id": "71735512-6a4b-4d42-82c9-b0cd3a4442f9",
   "metadata": {},
   "outputs": [
    {
     "name": "stdout",
     "output_type": "stream",
     "text": [
      "Original message: HELP\n",
      "Encrypted message: HIAT\n",
      "Decrypted message: HELP\n"
     ]
    }
   ],
   "source": [
    "import string\n",
    "import numpy as np\n",
    "\n",
    "alphabet = string.ascii_lowercase\n",
    "letter_to_index = dict(zip(alphabet, range(len(alphabet))))\n",
    "index_to_letter = dict(zip(range(len(alphabet)), alphabet))\n",
    "\n",
    "\n",
    "def egcd(a, b):\n",
    "    if a == 0:\n",
    "        return b, 0, 1\n",
    "    else:\n",
    "        gcd, x, y = egcd(b % a, a)\n",
    "        return gcd, y - (b // a) * x, x\n",
    "\n",
    "\n",
    "def mod_inv(det, modulus):\n",
    "    gcd, x, y = egcd(det, modulus)\n",
    "    if gcd != 1:\n",
    "        raise Exception(\"Matrix is not invertible.\")\n",
    "    return (x % modulus + modulus) % modulus\n",
    "\n",
    "\n",
    "def matrix_mod_inv(matrix, modulus):\n",
    "    det = int(np.round(np.linalg.det(matrix)))\n",
    "    det_inv = mod_inv(det, modulus)\n",
    "    matrix_modulus_inv = (\n",
    "            det_inv * np.round(det * np.linalg.inv(matrix)).astype(int) % modulus\n",
    "    )\n",
    "    return matrix_modulus_inv.astype(int)\n",
    "\n",
    "\n",
    "def encrypt_decrypt(message, K):\n",
    "    msg = \"\"\n",
    "    message_in_numbers = [letter_to_index[letter] for letter in message]\n",
    "    split_P = [\n",
    "        message_in_numbers[i: i + len(K)]\n",
    "        for i in range(0, len(message_in_numbers), len(K))\n",
    "    ]\n",
    "    for P in split_P:\n",
    "        P = np.transpose(np.asarray(P))[:, np.newaxis]\n",
    "        while P.shape[0] != len(K):\n",
    "            P = np.append(P, letter_to_index[\" \"])[:, np.newaxis]\n",
    "        numbers = np.dot(K, P) % len(alphabet)\n",
    "        n = numbers.shape[0]\n",
    "        for idx in range(n):\n",
    "            number = int(numbers[idx, 0])\n",
    "            msg += index_to_letter[number]\n",
    "    return msg\n",
    "\n",
    "\n",
    "message = \"help\"\n",
    "K = np.matrix([[3, 3], [2, 5]])\n",
    "Kinv = matrix_mod_inv(K, len(alphabet))\n",
    "\n",
    "encrypted_message = encrypt_decrypt(message, K)\n",
    "decrypted_message = encrypt_decrypt(encrypted_message, Kinv)\n",
    "\n",
    "print(\"Original message: \" + message.upper())\n",
    "print(\"Encrypted message: \" + encrypted_message.upper())\n",
    "print(\"Decrypted message: \" + decrypted_message.upper())\n"
   ]
  },
  {
   "cell_type": "code",
   "execution_count": null,
   "id": "5859a380-07dc-4037-baef-1e4aa117f9f9",
   "metadata": {},
   "outputs": [],
   "source": []
  }
 ],
 "metadata": {
  "kernelspec": {
   "display_name": "Python 3 (ipykernel)",
   "language": "python",
   "name": "python3"
  },
  "language_info": {
   "codemirror_mode": {
    "name": "ipython",
    "version": 3
   },
   "file_extension": ".py",
   "mimetype": "text/x-python",
   "name": "python",
   "nbconvert_exporter": "python",
   "pygments_lexer": "ipython3",
   "version": "3.11.7"
  }
 },
 "nbformat": 4,
 "nbformat_minor": 5
}
