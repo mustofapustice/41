{
 "cells": [
  {
   "cell_type": "code",
   "execution_count": 1,
   "id": "c642765a-27e5-4f66-96c1-80762d847b78",
   "metadata": {},
   "outputs": [
    {
     "name": "stdout",
     "output_type": "stream",
     "text": [
      "Plain text: I am ICEIAN\n",
      "Encrypted message: O QD OETOQF\n",
      "Decrypted message: i am iceian\n"
     ]
    }
   ],
   "source": [
    "class MonoalphabeticCipher:\n",
    "    def __init__(self):\n",
    "        self.normal_char = ['a', 'b', 'c', 'd', 'e', 'f', 'g', 'h', 'i',\n",
    "                            'j', 'k', 'l', 'm', 'n', 'o', 'p', 'q', 'r',\n",
    "                            's', 't', 'u', 'v', 'w', 'x', 'y', 'z']\n",
    "\n",
    "        self.coded_char = ['Q', 'W', 'E', 'R', 'T', 'Y', 'U', 'I', 'O',\n",
    "                           'P', 'A', 'S', 'D', 'F', 'G', 'H', 'J', 'K',\n",
    "                           'L', 'Z', 'X', 'C', 'V', 'B', 'N', 'M']\n",
    "\n",
    "    def string_encryption(self, s):\n",
    "        encrypted_string = \"\"\n",
    "        for char in s:\n",
    "            for i in range(26):\n",
    "                if char == self.normal_char[i]:\n",
    "                    encrypted_string += self.coded_char[i]\n",
    "                    break\n",
    "                elif char < 'a' or char > 'z':\n",
    "                    encrypted_string += char\n",
    "                    break\n",
    "        return encrypted_string\n",
    "\n",
    "    def string_decryption(self, s):\n",
    "        decrypted_string = \"\"\n",
    "        for char in s:\n",
    "            for i in range(26):\n",
    "                if char == self.coded_char[i]:\n",
    "                    decrypted_string += self.normal_char[i]\n",
    "                    break\n",
    "                elif char < 'A' or char > 'Z':\n",
    "                    decrypted_string += char\n",
    "                    break\n",
    "        return decrypted_string\n",
    "\n",
    "\n",
    "def main():\n",
    "    cipher = MonoalphabeticCipher()\n",
    "    plain_text = \"I am ICEIAN\"\n",
    "\n",
    "    print(\"Plain text:\", plain_text)\n",
    "\n",
    "    # Changing the whole string to lowercase\n",
    "    encrypted_message = cipher.string_encryption(plain_text.lower())\n",
    "    print(\"Encrypted message:\", encrypted_message)\n",
    "\n",
    "    decrypted_message = cipher.string_decryption(encrypted_message)\n",
    "    print(\"Decrypted message:\", decrypted_message)\n",
    "\n",
    "\n",
    "main()\n"
   ]
  },
  {
   "cell_type": "code",
   "execution_count": null,
   "id": "8e358900-7d90-4234-99e0-1209ec8998e2",
   "metadata": {},
   "outputs": [],
   "source": []
  }
 ],
 "metadata": {
  "kernelspec": {
   "display_name": "Python 3 (ipykernel)",
   "language": "python",
   "name": "python3"
  },
  "language_info": {
   "codemirror_mode": {
    "name": "ipython",
    "version": 3
   },
   "file_extension": ".py",
   "mimetype": "text/x-python",
   "name": "python",
   "nbconvert_exporter": "python",
   "pygments_lexer": "ipython3",
   "version": "3.11.7"
  }
 },
 "nbformat": 4,
 "nbformat_minor": 5
}
