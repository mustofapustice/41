{
 "cells": [
  {
   "cell_type": "code",
   "execution_count": 1,
   "id": "4272680d-c257-4a0e-9149-faf9fa372a9f",
   "metadata": {},
   "outputs": [
    {
     "name": "stdout",
     "output_type": "stream",
     "text": [
      "Ciphertext : ZICVTWQNGRZGVTWAVZHCQYGLMGJ\n",
      "Decrypted Text : WEAREDISCOVEREDSAVEYOURSELF\n"
     ]
    }
   ],
   "source": [
    "# Poly_alphabetic cipher\n",
    "\n",
    "alphabet = \"abcdefghijklmnopqrstuvwxyz\".upper()\n",
    "mp = dict(zip(alphabet, range(len(alphabet))))\n",
    "mp2 = dict(zip(range(len(alphabet)), alphabet))\n",
    "\n",
    "\n",
    "def generateKey(plainText, keyword):\n",
    "    key = ''\n",
    "    for i in range(len(plainText)):\n",
    "        key += keyword[i % len(keyword)]\n",
    "    return key\n",
    "\n",
    "\n",
    "def cipherText(plainText, key):\n",
    "    cipher_text = \"\"\n",
    "    for i in range(len(plainText)):\n",
    "        shift = mp[key[i].upper()] - mp['A']\n",
    "        newChar = mp2[(mp[plainText[i].upper()] + shift) % 26]\n",
    "        cipher_text += newChar\n",
    "    return cipher_text\n",
    "\n",
    "\n",
    "def decrypt(cipher_text, key):\n",
    "    plainText = ''\n",
    "    for i in range(len(cipher_text)):\n",
    "        shift = mp[key[i].upper()] - mp['A']\n",
    "        newChar = mp2[(mp[cipher_text[i].upper()] - shift + 26) % 26]\n",
    "        plainText += newChar\n",
    "    return plainText\n",
    "\n",
    "\n",
    "plainText = \"wearediscoveredsaveyourself\"\n",
    "keyword = \"deceptive\"\n",
    "key = generateKey(plainText, keyword)\n",
    "cipher_text = cipherText(plainText, key)\n",
    "print(\"Ciphertext :\", cipher_text)\n",
    "print(\"Decrypted Text :\", decrypt(cipher_text, key))\n"
   ]
  },
  {
   "cell_type": "code",
   "execution_count": null,
   "id": "598ed096-ee18-41b5-ad4e-057db212e36b",
   "metadata": {},
   "outputs": [],
   "source": []
  }
 ],
 "metadata": {
  "kernelspec": {
   "display_name": "Python 3 (ipykernel)",
   "language": "python",
   "name": "python3"
  },
  "language_info": {
   "codemirror_mode": {
    "name": "ipython",
    "version": 3
   },
   "file_extension": ".py",
   "mimetype": "text/x-python",
   "name": "python",
   "nbconvert_exporter": "python",
   "pygments_lexer": "ipython3",
   "version": "3.11.7"
  }
 },
 "nbformat": 4,
 "nbformat_minor": 5
}
