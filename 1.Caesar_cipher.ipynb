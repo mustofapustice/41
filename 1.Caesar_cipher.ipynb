{
 "cells": [
  {
   "cell_type": "code",
   "execution_count": 1,
   "id": "c5fbb45e-4d44-4738-9e0f-bcb7e1e8bb19",
   "metadata": {},
   "outputs": [],
   "source": [
    "def caesar_encrypt(plaintext, shift):\n",
    "    encrypted_text = \"\"\n",
    "    for char in plaintext:\n",
    "        if char.isalpha():\n",
    "            if char.islower():\n",
    "                encrypted_text += chr((ord(char) + shift - ord('a')) % 26 + ord('a'))\n",
    "            else:\n",
    "                encrypted_text += chr((ord(char) + shift - ord('A')) % 26 + ord('A'))\n",
    "        else:\n",
    "            encrypted_text += char\n",
    "    return encrypted_text"
   ]
  },
  {
   "cell_type": "code",
   "execution_count": 2,
   "id": "5af1d707-34bb-445a-96c9-a4ce08119dae",
   "metadata": {},
   "outputs": [],
   "source": [
    "def caesar_decrypt(ciphertext, shift):\n",
    "    decrypted_text = \"\"\n",
    "    for char in ciphertext:\n",
    "        if char.isalpha():\n",
    "            if char.islower():\n",
    "                decrypted_text += chr((ord(char) - shift - ord('a')) % 26 + ord('a'))\n",
    "            else:\n",
    "                decrypted_text += chr((ord(char) - shift - ord('A')) % 26 + ord('A'))\n",
    "        else:\n",
    "            decrypted_text += char\n",
    "    return decrypted_text"
   ]
  },
  {
   "cell_type": "code",
   "execution_count": 4,
   "id": "61014275-c8ec-46e3-814d-d6d071c81f46",
   "metadata": {},
   "outputs": [
    {
     "name": "stdout",
     "output_type": "stream",
     "text": [
      "Caesar Cipher Encryption: pxvwrid\n",
      "Caesar Cipher Decryption: mustofa\n"
     ]
    }
   ],
   "source": [
    "plaintext = \"mustofa\"\n",
    "shift = 3\n",
    "ciphertext = caesar_encrypt(plaintext, shift)\n",
    "print(f\"Caesar Cipher Encryption: {ciphertext}\")\n",
    "plaintext = caesar_decrypt(ciphertext, 3)\n",
    "print(f\"Caesar Cipher Decryption: {plaintext}\")\n"
   ]
  },
  {
   "cell_type": "code",
   "execution_count": null,
   "id": "9db9a9ad-1540-4024-be7f-7dacc6793481",
   "metadata": {},
   "outputs": [],
   "source": []
  }
 ],
 "metadata": {
  "kernelspec": {
   "display_name": "Python 3 (ipykernel)",
   "language": "python",
   "name": "python3"
  },
  "language_info": {
   "codemirror_mode": {
    "name": "ipython",
    "version": 3
   },
   "file_extension": ".py",
   "mimetype": "text/x-python",
   "name": "python",
   "nbconvert_exporter": "python",
   "pygments_lexer": "ipython3",
   "version": "3.11.7"
  }
 },
 "nbformat": 4,
 "nbformat_minor": 5
}
