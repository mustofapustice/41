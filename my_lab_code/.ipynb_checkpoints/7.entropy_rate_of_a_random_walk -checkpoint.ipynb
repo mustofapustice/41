{
 "cells": [
  {
   "cell_type": "code",
   "execution_count": 1,
   "id": "2c07c179-5321-43b5-9866-c54d02c3f89e",
   "metadata": {},
   "outputs": [
    {
     "name": "stdout",
     "output_type": "stream",
     "text": [
      "Entropy Rate: 1.33\n"
     ]
    }
   ],
   "source": [
    "import math\n",
    "from collections import defaultdict\n",
    "\n",
    "# given\n",
    "g = defaultdict(list)\n",
    "xij = [[1, 1, 2], [1, 1], [1, 2, 1], [1, 1]]\n",
    "\n",
    "\n",
    "def makeGraph(li):\n",
    "    for node in range(len(li)):\n",
    "        for x in li[node]:\n",
    "            g[node].append(x)\n",
    "\n",
    "\n",
    "def entropy(li):\n",
    "    H = 0\n",
    "    for x in li:\n",
    "        if x == 0:\n",
    "            continue\n",
    "        H += -(x * math.log2(x))\n",
    "    return H\n",
    "\n",
    "\n",
    "# make graph\n",
    "makeGraph(xij)\n",
    "wi = []\n",
    "for node in range(len(g)):\n",
    "    wi.append(sum(g[node]))\n",
    "\n",
    "# we know\n",
    "# summation(wi)=2w\n",
    "w = sum(wi) / 2\n",
    "\n",
    "# the stationary distribution is\n",
    "# ui=(wi)/2w\n",
    "ui = [weight / (2 * w) for weight in wi]\n",
    "\n",
    "# H((wi)/2w)=H(ui)\n",
    "H_wi_div_2w = entropy(ui)\n",
    "\n",
    "# H(wij/2*w) = H(g[]/2*w)\n",
    "wij_div_2w_list = []\n",
    "for i in range(len(g)):\n",
    "    wij_div_2w_list += [weight / (2 * w) for weight in g[i]]\n",
    "\n",
    "# H(wij/2*w) = H(wij_div_2w_list)\n",
    "H_wij_div_2w = entropy(wij_div_2w_list)\n",
    "\n",
    "# finally the entropy rate\n",
    "# H(x)=H(wij/2w)-H(wi/2w)\n",
    "H_x = H_wij_div_2w - H_wi_div_2w\n",
    "print('Entropy Rate: %.2f' % H_x)\n"
   ]
  },
  {
   "cell_type": "code",
   "execution_count": null,
   "id": "6a6d3be9-f936-4828-8e77-d20471f4abfd",
   "metadata": {},
   "outputs": [],
   "source": []
  }
 ],
 "metadata": {
  "kernelspec": {
   "display_name": "Python 3 (ipykernel)",
   "language": "python",
   "name": "python3"
  },
  "language_info": {
   "codemirror_mode": {
    "name": "ipython",
    "version": 3
   },
   "file_extension": ".py",
   "mimetype": "text/x-python",
   "name": "python",
   "nbconvert_exporter": "python",
   "pygments_lexer": "ipython3",
   "version": "3.11.7"
  }
 },
 "nbformat": 4,
 "nbformat_minor": 5
}
