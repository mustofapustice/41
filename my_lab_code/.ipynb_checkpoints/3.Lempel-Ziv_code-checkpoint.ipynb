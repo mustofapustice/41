{
 "cells": [
  {
   "cell_type": "code",
   "execution_count": 1,
   "id": "3f04b755-2199-421a-9124-a0d2d2711b42",
   "metadata": {},
   "outputs": [],
   "source": [
    "import string"
   ]
  },
  {
   "cell_type": "code",
   "execution_count": 2,
   "id": "4183bdab-20fb-4dd9-a608-ddd6471e4584",
   "metadata": {},
   "outputs": [
    {
     "name": "stdout",
     "output_type": "stream",
     "text": [
      "['A', '1B', '2B', 'B', '2A', '5B', '4B', '3A', '7']\n",
      "Encoded:  ['0000', '0011', '0101', '0001', '0100', '1011', '1001', '0110', '0111']\n"
     ]
    }
   ],
   "source": [
    "message = 'AABABBBABAABABBBABBABB'\n",
    "dictionary = {}\n",
    "tmp, i, last = '', 1, 0\n",
    "Flag = True\n",
    "for x in message:\n",
    "    tmp += x\n",
    "    Flag = False\n",
    "    if tmp not in dictionary.keys():\n",
    "        dictionary[tmp] = i\n",
    "        tmp = ''\n",
    "        i += 1\n",
    "        Flag = True\n",
    "\n",
    "if not Flag:\n",
    "    last = dictionary[tmp]\n",
    "\n",
    "res = []\n",
    "for char, idx in dictionary.items():\n",
    "    tmp, s = '', ''\n",
    "    for x, j in zip(char[:-1], range(len(char))):\n",
    "        tmp += x\n",
    "        if tmp in dictionary.keys():\n",
    "            take = dictionary[tmp]\n",
    "            s = str(take) + char[j + 1:]\n",
    "    if len(char) == 1:\n",
    "        s = char\n",
    "    res.append(s)\n",
    "if last:\n",
    "    res.append(str(last))\n",
    "\n",
    "alphabet = string.ascii_uppercase\n",
    "mark = dict(zip(alphabet, range(len(alphabet))))\n",
    "\n",
    "final_res = []\n",
    "for x in res:\n",
    "    tmp = \"\"\n",
    "    for char in x:\n",
    "        if char.isalpha():\n",
    "            tmp += bin(mark[char])[2:]\n",
    "        else:\n",
    "            tmp += bin(int(char))[2:]\n",
    "    final_res.append(tmp.zfill(4))\n",
    "\n",
    "print(res)\n",
    "print(\"Encoded: \", final_res)\n"
   ]
  },
  {
   "cell_type": "code",
   "execution_count": null,
   "id": "78d7e870-767c-4df0-bc6f-900c92639ddc",
   "metadata": {},
   "outputs": [],
   "source": []
  }
 ],
 "metadata": {
  "kernelspec": {
   "display_name": "Python 3 (ipykernel)",
   "language": "python",
   "name": "python3"
  },
  "language_info": {
   "codemirror_mode": {
    "name": "ipython",
    "version": 3
   },
   "file_extension": ".py",
   "mimetype": "text/x-python",
   "name": "python",
   "nbconvert_exporter": "python",
   "pygments_lexer": "ipython3",
   "version": "3.11.7"
  }
 },
 "nbformat": 4,
 "nbformat_minor": 5
}
