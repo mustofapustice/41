{
 "cells": [
  {
   "cell_type": "code",
   "execution_count": 7,
   "id": "9618d70d-90da-4311-8395-b6aa1d3a9701",
   "metadata": {},
   "outputs": [
    {
     "name": "stdout",
     "output_type": "stream",
     "text": [
      "D -> 00\n",
      "B -> 01\n",
      "E -> 100\n",
      "A -> 101\n",
      "C -> 11\n"
     ]
    }
   ],
   "source": [
    "import heapq\n",
    "from collections import Counter\n",
    "\n",
    "def calculate_frequency(my_text):\n",
    "    my_text = my_text.upper().replace(' ', '')\n",
    "    frequency = dict(Counter(my_text))\n",
    "    return frequency\n",
    "\n",
    "def build_heap(freq):\n",
    "    heap = [[weight, [char, \"\"]] for char, weight in freq.items()]\n",
    "    heapq.heapify(heap)  # Ensure it's a valid heap\n",
    "    return heap\n",
    "\n",
    "def build_tree(heap):\n",
    "    while len(heap) > 1:\n",
    "        lo = heapq.heappop(heap)\n",
    "        hi = heapq.heappop(heap)\n",
    "        for pair in lo[1:]:\n",
    "            pair[1] = '0' + pair[1]\n",
    "        for pair in hi[1:]:\n",
    "            pair[1] = '1' + pair[1]\n",
    "        heapq.heappush(heap, [lo[0] + hi[0]] + lo[1:] + hi[1:])\n",
    "    return heap[0]\n",
    "\n",
    "# Execution\n",
    "freq = calculate_frequency(\"aaabbbbbccccccddddee\")\n",
    "heap = build_heap(freq)\n",
    "tree = build_tree(heap)\n",
    "for char, code in tree[1:]:\n",
    "    print(char, '->', code)\n"
   ]
  },
  {
   "cell_type": "code",
   "execution_count": null,
   "id": "9aa2b2bf-9ac0-4f61-b55e-523c311f51c5",
   "metadata": {},
   "outputs": [],
   "source": []
  }
 ],
 "metadata": {
  "kernelspec": {
   "display_name": "Python 3 (ipykernel)",
   "language": "python",
   "name": "python3"
  },
  "language_info": {
   "codemirror_mode": {
    "name": "ipython",
    "version": 3
   },
   "file_extension": ".py",
   "mimetype": "text/x-python",
   "name": "python",
   "nbconvert_exporter": "python",
   "pygments_lexer": "ipython3",
   "version": "3.11.7"
  }
 },
 "nbformat": 4,
 "nbformat_minor": 5
}
