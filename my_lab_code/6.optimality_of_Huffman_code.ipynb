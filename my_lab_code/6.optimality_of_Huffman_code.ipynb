{
 "cells": [
  {
   "cell_type": "code",
   "execution_count": 2,
   "id": "bce532bd-0fe3-491e-a6ae-9ac3392e6892",
   "metadata": {},
   "outputs": [
    {
     "name": "stdout",
     "output_type": "stream",
     "text": [
      "Huffman : 2.25 bits\n",
      "Entropy : 2.23 bits\n",
      "Huffman code is optimal\n"
     ]
    }
   ],
   "source": [
    "import heapq\n",
    "import math\n",
    "from collections import Counter\n",
    "\n",
    "\n",
    "def calculate_frequency(my_text):\n",
    "    my_text = my_text.upper().replace(' ', '')\n",
    "    frequency = dict(Counter(my_text))\n",
    "    return frequency\n",
    "\n",
    "\n",
    "def build_heap(freq):\n",
    "    heap = [[weight, [char, \"\"]] for char, weight in freq.items()]\n",
    "    heapq.heapify(heap)\n",
    "    return heap\n",
    "\n",
    "\n",
    "def build_tree(heap):\n",
    "    while len(heap) > 1:\n",
    "        lo = heapq.heappop(heap)\n",
    "        hi = heapq.heappop(heap)\n",
    "        for pair in lo[1:]:\n",
    "            pair[1] = '0' + pair[1]\n",
    "        for pair in hi[1:]:\n",
    "            pair[1] = '1' + pair[1]\n",
    "        heapq.heappush(heap, [lo[0] + hi[0]] + lo[1:] + hi[1:])\n",
    "    return heap[0]\n",
    "\n",
    "\n",
    "def compute_huffman_avg_length(freq, tree, length):\n",
    "    huffman_avg_length = 0\n",
    "    for pair in tree[1:]:\n",
    "        huffman_avg_length += (len(pair[1]) * (freq[pair[0]] / length))\n",
    "    return huffman_avg_length\n",
    "\n",
    "\n",
    "def entropy(freq, length):\n",
    "    H = 0\n",
    "    P = [fre / length for _, fre in freq.items()]\n",
    "    for x in P:\n",
    "        H += -(x * math.log2(x))\n",
    "    return H\n",
    "\n",
    "\n",
    "message = \"aaabbbbbccccccddddee\"\n",
    "freq = calculate_frequency(message)\n",
    "heap = build_heap(freq)\n",
    "tree = build_tree(heap)\n",
    "# tree=[20, ['D', '0'], ['B', '01'], ['E', '100'], ['A', '101'], ['C', '11']] not optimal\n",
    "huffman_avg_length = compute_huffman_avg_length(freq, tree, len(message))\n",
    "H = entropy(freq, len(message))\n",
    "print(\"Huffman : %.2f bits\" % huffman_avg_length)\n",
    "print('Entropy : %.2f bits' % H)\n",
    "if huffman_avg_length >= H:\n",
    "    print(\"Huffman code is optimal\")\n",
    "else:\n",
    "    print(\"Code is not optimal\")\n"
   ]
  },
  {
   "cell_type": "code",
   "execution_count": null,
   "id": "dab6f146-cd6b-4394-8509-8a1b58b7da72",
   "metadata": {},
   "outputs": [],
   "source": []
  }
 ],
 "metadata": {
  "kernelspec": {
   "display_name": "Python 3 (ipykernel)",
   "language": "python",
   "name": "python3"
  },
  "language_info": {
   "codemirror_mode": {
    "name": "ipython",
    "version": 3
   },
   "file_extension": ".py",
   "mimetype": "text/x-python",
   "name": "python",
   "nbconvert_exporter": "python",
   "pygments_lexer": "ipython3",
   "version": "3.11.7"
  }
 },
 "nbformat": 4,
 "nbformat_minor": 5
}
