{
 "cells": [
  {
   "cell_type": "code",
   "execution_count": 1,
   "id": "ba10fa48-26e8-4519-9e84-67bdcef966e9",
   "metadata": {},
   "outputs": [
    {
     "name": "stdout",
     "output_type": "stream",
     "text": [
      "Symmetric matrix is:\n",
      "0.67  0.33  \n",
      "0.33  0.67  \n",
      "Conditional probability H(Y/X) is = 0.918 bits/msg symbol\n",
      "Channel Capacity is = 0.082 bits/msg symbol\n"
     ]
    }
   ],
   "source": [
    "import math\n",
    "\n",
    "# given\n",
    "matrix = [[2 / 3, 1 / 3], [1 / 3, 2 / 3]]\n",
    "print(\"Symmetric matrix is:\")\n",
    "for i in range(0, 2):\n",
    "    for j in range(0, 2):\n",
    "        print('%.2f ' % matrix[i][j], end=' ')\n",
    "    print()\n",
    "\n",
    "# Calculate H(Y/X) using formula (1-p)log(1/(1-p))+plog(1/p)\n",
    "Hp = matrix[0][0] * math.log2(1.0 / matrix[0][0]) + matrix[0][1] * math.log2(1.0 / matrix[0][1])\n",
    "print(\"Conditional probability H(Y/X) is = %.3f\" % Hp, \"bits/msg symbol\")\n",
    "\n",
    "# Now calculate channel capacity using formula C = 1- H(Y/X)\n",
    "C = 1 - Hp\n",
    "print(\"Channel Capacity is = %.3f\" % C, \"bits/msg symbol\")\n"
   ]
  },
  {
   "cell_type": "code",
   "execution_count": null,
   "id": "ecf9b0d0-7605-4778-b65c-af1e243197e1",
   "metadata": {},
   "outputs": [],
   "source": []
  }
 ],
 "metadata": {
  "kernelspec": {
   "display_name": "Python 3 (ipykernel)",
   "language": "python",
   "name": "python3"
  },
  "language_info": {
   "codemirror_mode": {
    "name": "ipython",
    "version": 3
   },
   "file_extension": ".py",
   "mimetype": "text/x-python",
   "name": "python",
   "nbconvert_exporter": "python",
   "pygments_lexer": "ipython3",
   "version": "3.11.7"
  }
 },
 "nbformat": 4,
 "nbformat_minor": 5
}
